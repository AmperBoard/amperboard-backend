{
 "cells": [
  {
   "cell_type": "code",
   "execution_count": null,
   "metadata": {
    "collapsed": true
   },
   "outputs": [],
   "source": [
    "import math"
   ]
  },
  {
   "cell_type": "markdown",
   "metadata": {},
   "source": [
    "Sun position \n",
    "\n",
    "=> α=90-Φ+δ"
   ]
  },
  {
   "cell_type": "code",
   "execution_count": 3,
   "metadata": {},
   "outputs": [],
   "source": [
    "def sun_position(latitude, declination):\n",
    "    return 90 - latitude + declination"
   ]
  },
  {
   "cell_type": "markdown",
   "metadata": {},
   "source": []
  },
  {
   "cell_type": "markdown",
   "metadata": {},
   "source": [
    "Where declination is calculated as\n",
    "\n",
    "=> δ= 23.45° * Sin[ 360/365 (284+d)] \n",
    "\n",
    "and 284 is an adjustation value as declination not being zero on January 1"
   ]
  },
  {
   "cell_type": "code",
   "execution_count": 5,
   "metadata": {},
   "outputs": [],
   "source": [
    "def declination(day):\n",
    "    return 23.45 * math.sin((360/365) * 284 + day)"
   ]
  },
  {
   "cell_type": "markdown",
   "metadata": {},
   "source": [
    "Energy received taking into acount the inclinationg of the surface \n",
    "\n",
    "=> G (inclined) = G(horizontal) * Sin (α+β) / Sinα\n",
    "\n",
    "β is the ° of the surface"
   ]
  },
  {
   "cell_type": "code",
   "execution_count": 7,
   "metadata": {
    "collapsed": true
   },
   "outputs": [],
   "source": [
    "def radiation_with_angle_simple(raw_radiation, sun_position, panel_angle):\n",
    "    return raw_radiation * math.sin(sun_position, panel_angle) / math.sin(sun_position)"
   ]
  },
  {
   "cell_type": "markdown",
   "metadata": {},
   "source": []
  }
 ],
 "metadata": {
  "kernelspec": {
   "display_name": "Python 3",
   "language": "python",
   "name": "python3"
  },
  "language_info": {
   "codemirror_mode": {
    "name": "ipython",
    "version": 3.0
   },
   "file_extension": ".py",
   "mimetype": "text/x-python",
   "name": "python",
   "nbconvert_exporter": "python",
   "pygments_lexer": "ipython3",
   "version": "3.6.0"
  }
 },
 "nbformat": 4,
 "nbformat_minor": 0
}